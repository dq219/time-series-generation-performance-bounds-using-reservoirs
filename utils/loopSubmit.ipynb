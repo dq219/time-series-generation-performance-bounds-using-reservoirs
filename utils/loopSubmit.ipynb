{
 "cells": [
  {
   "cell_type": "code",
   "execution_count": 1,
   "id": "ca65b7e1-21eb-4692-ad7c-e63824c0f443",
   "metadata": {},
   "outputs": [],
   "source": [
    "import subprocess"
   ]
  },
  {
   "cell_type": "code",
   "execution_count": 7,
   "id": "2bcded3f-1173-4fe9-989d-05a597826fce",
   "metadata": {
    "scrolled": true
   },
   "outputs": [
    {
     "name": "stdout",
     "output_type": "stream",
     "text": [
      "Submitted batch job 4872611\n"
     ]
    }
   ],
   "source": [
    "for i in range(1):\n",
    "    i0 = i * 5\n",
    "    i1 = i * 5 + 5\n",
    "    mode = 'AT_Scan_FORCE'\n",
    "    command = f\"sbatch slurm_submit {mode} {i0} {i1}\"\n",
    "    subprocess.run(command, shell=True)"
   ]
  },
  {
   "cell_type": "code",
   "execution_count": null,
   "id": "f19cea52-c182-41bf-a3e8-ff175400ec07",
   "metadata": {},
   "outputs": [],
   "source": [
    "for i in range(1):\n",
    "    i0 = i * 5\n",
    "    i1 = i * 5 + 5\n",
    "    mode = 'AT_Scan_Echo'\n",
    "    command = f\"sbatch slurm_submit {mode} {i0} {i1}\"\n",
    "    subprocess.run(command, shell=True)"
   ]
  },
  {
   "cell_type": "code",
   "execution_count": null,
   "id": "63c2f869-b68c-43b1-ab08-81558075ae43",
   "metadata": {},
   "outputs": [],
   "source": [
    "for i in range(1):\n",
    "    i0 = i * 5\n",
    "    i1 = i * 5 + 5\n",
    "    mode = 'AT_Scan_fFORCE'\n",
    "    command = f\"sbatch slurm_submit {mode} {i0} {i1}\"\n",
    "    subprocess.run(command, shell=True)"
   ]
  }
 ],
 "metadata": {
  "kernelspec": {
   "display_name": "Python 3 (ipykernel)",
   "language": "python",
   "name": "python3"
  },
  "language_info": {
   "codemirror_mode": {
    "name": "ipython",
    "version": 3
   },
   "file_extension": ".py",
   "mimetype": "text/x-python",
   "name": "python",
   "nbconvert_exporter": "python",
   "pygments_lexer": "ipython3",
   "version": "3.9.6"
  }
 },
 "nbformat": 4,
 "nbformat_minor": 5
}
